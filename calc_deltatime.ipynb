{
  "cells": [
    {
      "cell_type": "code",
      "execution_count": 1,
      "metadata": {
        "id": "GfHs7PZLCo5S"
      },
      "outputs": [],
      "source": [
        "import datetime\n",
        "\n",
        "\n",
        "def get_day(y: int, m: int, d: int) -> tuple:\n",
        "    today_utc = datetime.datetime.utcnow().date()\n",
        "    if y == 0:\n",
        "        y = today_utc.year\n",
        "    if m == 0:\n",
        "        m = today_utc.month\n",
        "    if d == 0:\n",
        "        d = today_utc.day\n",
        "    return y, m, d\n",
        "\n",
        "\n",
        "def set_time(h: int, m: int, s: int, *, year: int = 0, month: int = 0, day: int = 0) -> datetime.datetime:\n",
        "    year, month, day = get_day(year, month, day)\n",
        "    return datetime.datetime(year, month, day, h, m, s)\n",
        "\n",
        "\n",
        "def format_deltatime(time: datetime.timedelta) -> str:\n",
        "    m, s = divmod(time.seconds, 60)\n",
        "    h, m = divmod(m, 60)\n",
        "    t = f\"{h}時間{m}分{s}秒\"\n",
        "\n",
        "    if time.days == 0:\n",
        "        return t\n",
        "    return f\"{time.days}日と \" + t"
      ]
    },
    {
      "cell_type": "code",
      "execution_count": 11,
      "metadata": {
        "id": "EeZ9k9B_Zw4R"
      },
      "outputs": [],
      "source": [
        "def calc(epoch: list, start, end) -> datetime.timedelta:\n",
        "    epoch_num = epoch[1] - epoch[0] + 1\n",
        "    if type(start) == str:\n",
        "        start = datetime.datetime.fromisoformat(start.split(',')[0])\n",
        "        end = datetime.datetime.fromisoformat(end.split(',')[0])\n",
        "    delta_time = abs(end - start)\n",
        "\n",
        "    print(f\"経過時間（epoch{epoch[0]}～{epoch[1]}）\")\n",
        "    print(f\"total_time: {delta_time}   {format_deltatime(delta_time)}\")\n",
        "\n",
        "    mean = delta_time / epoch_num\n",
        "    print(f\"time/epoch：{mean.seconds / 60:.2f}   {format_deltatime(mean)}\")\n",
        "\n",
        "    return delta_time"
      ]
    },
    {
      "cell_type": "code",
      "execution_count": 3,
      "metadata": {
        "id": "bouTNvC4a0ab"
      },
      "outputs": [],
      "source": [
        "def print_sep():\n",
        "    print(f\"\\n\\n*{'-'*50}*\\n\\n\")"
      ]
    },
    {
      "cell_type": "code",
      "execution_count": null,
      "metadata": {
        "id": "aKBwtEnddNGS"
      },
      "outputs": [],
      "source": [
        "# epoch = [1, 11]\n",
        "# start = set_time(14, 4, 38)\n",
        "# end = set_time(20, 54, 38)\n",
        "# print(start)\n",
        "# calc(epoch, start, end)"
      ]
    },
    {
      "cell_type": "code",
      "execution_count": null,
      "metadata": {
        "colab": {
          "base_uri": "https://localhost:8080/"
        },
        "id": "DrczpZLb2aYO",
        "outputId": "4d60fa54-d2d2-44f5-b721-22d07f6580ee"
      },
      "outputs": [],
      "source": [
        "# epoch = [58, 60]\n",
        "# start = \"2022-01-30 12:46:26,274\"\n",
        "# end = \"2022-01-30 13:31:14,570\"\n",
        "# calc(epoch, start, end)"
      ]
    },
    {
      "cell_type": "code",
      "execution_count": 21,
      "metadata": {
        "colab": {
          "base_uri": "https://localhost:8080/"
        },
        "id": "AejjxXLbCtkJ",
        "outputId": "8b2e7501-27ee-479f-cadf-54de54ef9f53"
      },
      "outputs": [
        {
          "name": "stdout",
          "output_type": "stream",
          "text": [
            "0:00:00\n",
            "<class 'datetime.timedelta'>\n",
            "\n",
            "\n",
            "*--------------------------------------------------*\n",
            "\n",
            "\n",
            "経過時間（epoch1～9）\n",
            "total_time: 2:39:55   2時間39分55秒\n",
            "time/epoch：17.77   0時間17分46秒\n",
            "\n",
            "\n",
            "*--------------------------------------------------*\n",
            "\n",
            "\n",
            "経過時間（epoch10～72）\n",
            "total_time: 19:09:10   19時間9分10秒\n",
            "time/epoch：18.23   0時間18分14秒\n",
            "\n",
            "\n",
            "*--------------------------------------------------*\n",
            "\n",
            "\n",
            "経過時間（epoch73～86）\n",
            "total_time: 4:14:56   4時間14分56秒\n",
            "time/epoch：18.20   0時間18分12秒\n",
            "\n",
            "\n",
            "*--------------------------------------------------*\n",
            "\n",
            "\n",
            "経過時間（epoch87～100）\n",
            "total_time: 3:53:30   3時間53分30秒\n",
            "time/epoch：16.67   0時間16分40秒\n",
            "\n",
            "\n",
            "*--------------------------------------------------*\n",
            "\n",
            "\n",
            "経過時間（累計）\n",
            "1 day, 5:57:31   1日と 5時間57分31秒\n",
            "1epochごとの平均\n",
            "0:17:58.510000\n"
          ]
        }
      ],
      "source": [
        "total_time = datetime.timedelta()\n",
        "print(total_time)\n",
        "print(type(total_time))\n",
        "mean_time = []\n",
        "print_sep()\n",
        "\n",
        "epoch = [1, 9]\n",
        "start = \"2022-02-17 14:27:00,448\"\n",
        "end = \"2022-02-17 17:06:55,097\"\n",
        "total_time += calc(epoch, start, end)\n",
        "print_sep()\n",
        "\n",
        "epoch = [10, 72]\n",
        "start = \"2022-02-17 18:03:57,246\"\n",
        "end = \"2022-02-18 13:13:07,710\"\n",
        "total_time += calc(epoch, start, end)\n",
        "print_sep()\n",
        "\n",
        "epoch = [73, 86]\n",
        "start = \"2022-02-18 13:20:13,987\"\n",
        "end = \"2022-02-18 17:35:09,303\"\n",
        "total_time += calc(epoch, start, end)\n",
        "print_sep()\n",
        "\n",
        "epoch = [87, 100]\n",
        "start = \"2022-02-18 21:44:07,661\"\n",
        "end = \"2022-02-19 01:37:37,782\"\n",
        "total_time += calc(epoch, start, end)\n",
        "print_sep()\n",
        "\n",
        "print(f\"経過時間（累計）\")\n",
        "print(f\"{total_time}   {format_deltatime(total_time)}\")\n",
        "print(f\"1epochごとの平均\")\n",
        "print(f\"{total_time/100}\")"
      ]
    },
    {
      "cell_type": "code",
      "execution_count": null,
      "metadata": {
        "id": "XtwwlL0bjnwJ"
      },
      "outputs": [],
      "source": []
    }
  ],
  "metadata": {
    "colab": {
      "collapsed_sections": [],
      "name": "calc_deltatime.ipynb",
      "provenance": []
    },
    "kernelspec": {
      "display_name": "Python 3",
      "name": "python3"
    },
    "language_info": {
      "codemirror_mode": {
        "name": "ipython",
        "version": 3
      },
      "file_extension": ".py",
      "mimetype": "text/x-python",
      "name": "python",
      "nbconvert_exporter": "python",
      "pygments_lexer": "ipython3",
      "version": "3.9.6"
    }
  },
  "nbformat": 4,
  "nbformat_minor": 0
}
